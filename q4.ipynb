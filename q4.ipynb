{
 "cells": [
  {
   "cell_type": "markdown",
   "metadata": {},
   "source": [
    "Q4:\n",
    "\n",
    "A palindromic number reads the same both ways. The largest palindrome made from the product of two 2-digit numbers is 9009 = 91 × 99.\n",
    "\n",
    "Find the largest palindrome made from the product of two 3-digit numbers."
   ]
  },
  {
   "cell_type": "code",
   "execution_count": 4,
   "metadata": {
    "collapsed": false
   },
   "outputs": [],
   "source": [
    "def is_palindrome(num):\n",
    "    \n",
    "    str_num = str(num)\n",
    "    i = len(str_num)-1\n",
    "    j = 0\n",
    "    \n",
    "    # Go from one end to the middle, comparing numbers\n",
    "    while i > j:\n",
    "        if str_num[i] != str_num[j]:\n",
    "            return False\n",
    "        \n",
    "        i-=1\n",
    "        j+=1\n",
    "        \n",
    "    return True    "
   ]
  },
  {
   "cell_type": "code",
   "execution_count": 10,
   "metadata": {
    "collapsed": false
   },
   "outputs": [],
   "source": [
    "def find_mod(a, b):\n",
    "    return a%b\n",
    "\n",
    "def find_max_product(num):\n",
    "    max_num = 999\n",
    "    curr_max = 999\n",
    "    mod = find_mod(num, curr_max)\n",
    "    \n",
    "    while mod != 0:\n",
    "        curr_max -= 1\n",
    "        mod = find_mod(num, curr_max)\n",
    "    return curr_max, int(num/curr_max)\n",
    "    "
   ]
  },
  {
   "cell_type": "code",
   "execution_count": 11,
   "metadata": {
    "collapsed": false
   },
   "outputs": [
    {
     "name": "stdout",
     "output_type": "stream",
     "text": [
      "Num 1: 993\n",
      "Num 2:913\n",
      "Palindrome: 906609\n"
     ]
    }
   ],
   "source": [
    "max_pos_palindrome = 999*999\n",
    "num_1 = 1\n",
    "num_2 = 1\n",
    "\n",
    "curr_palindrome = max_pos_palindrome\n",
    "is_good = False;\n",
    "\n",
    "while not is_good:\n",
    "    \n",
    "    # Go until you find the largest palindrome\n",
    "    while not is_palindrome(curr_palindrome):\n",
    "        curr_palindrome -= 1\n",
    "    \n",
    "    num_1, num_2 = find_max_product(curr_palindrome)\n",
    "    \n",
    "    # if the nums are not 3 digit\n",
    "    if len(str(num_1)) == 3 and len(str(num_2)) == 3:\n",
    "        is_good = True\n",
    "        print('Num 1: ' + str(num_1))\n",
    "        print('Num 2:' + str(num_2))\n",
    "        print('Palindrome: ' + str(curr_palindrome))\n",
    "    else:\n",
    "        curr_palindrome -= 1"
   ]
  },
  {
   "cell_type": "markdown",
   "metadata": {
    "collapsed": true
   },
   "source": [
    " "
   ]
  },
  {
   "cell_type": "code",
   "execution_count": null,
   "metadata": {
    "collapsed": true
   },
   "outputs": [],
   "source": []
  }
 ],
 "metadata": {
  "kernelspec": {
   "display_name": "Python 3",
   "language": "python",
   "name": "python3"
  },
  "language_info": {
   "codemirror_mode": {
    "name": "ipython",
    "version": 3
   },
   "file_extension": ".py",
   "mimetype": "text/x-python",
   "name": "python",
   "nbconvert_exporter": "python",
   "pygments_lexer": "ipython3",
   "version": "3.6.0"
  }
 },
 "nbformat": 4,
 "nbformat_minor": 2
}
